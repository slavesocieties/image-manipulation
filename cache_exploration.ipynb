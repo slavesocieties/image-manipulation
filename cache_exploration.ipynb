{
 "cells": [
  {
   "cell_type": "code",
   "execution_count": null,
   "id": "01070d67",
   "metadata": {},
   "outputs": [],
   "source": [
    "def iterate_bucket_items(bucket):\n",
    "    \"\"\"\n",
    "    Generator that iterates over all objects in a given s3 bucket\n",
    "\n",
    "    See http://boto3.readthedocs.io/en/latest/reference/services/s3.html#S3.Client.list_objects_v2 \n",
    "    for return data format\n",
    "    :param bucket: name of s3 bucket\n",
    "    :return: dict of metadata for an object\n",
    "    \"\"\"\n",
    "\n",
    "    import boto3\n",
    "    client = boto3.client('s3')\n",
    "    paginator = client.get_paginator('list_objects_v2')\n",
    "    page_iterator = paginator.paginate(Bucket=bucket)\n",
    "\n",
    "    for page in page_iterator:\n",
    "        if page['KeyCount'] > 0:\n",
    "            for item in page['Contents']:\n",
    "                yield item"
   ]
  },
  {
   "cell_type": "code",
   "execution_count": null,
   "id": "graphic-mobile",
   "metadata": {},
   "outputs": [],
   "source": [
    "def id_target_images(cache_objects, start_time, end_time):\n",
    "    #identifies all unique image hashes accessed during a given period of time\n",
    "    \n",
    "    image_ids = []\n",
    "    for obj in cache_objects:\n",
    "        if len(obj[\"Key\"].split(\"/\")) >= 4 and obj[\"LastModified\"] >= start_time and obj[\"LastModified\"] <= end_time:\n",
    "            if not (obj[\"Key\"].split(\"/\")[2] in image_ids):\n",
    "                image_ids.append(obj[\"Key\"].split(\"/\")[2])     \n",
    "            \n",
    "    return image_ids  "
   ]
  },
  {
   "cell_type": "code",
   "execution_count": null,
   "id": "enclosed-finish",
   "metadata": {},
   "outputs": [
    {
     "name": "stdout",
     "output_type": "stream",
     "text": [
      "10\n",
      "0e4216d05278327d8900d8e32be0c446\n"
     ]
    }
   ],
   "source": [
    "import datetime\n",
    "import pytz\n",
    "start_datetime = datetime.datetime(2022, 6, 29, 0, 39, 0, 0, pytz.UTC)\n",
    "end_datetime = datetime.datetime(2022, 6, 29, 0, 41, 0, 0, pytz.UTC)\n",
    "images = id_target_images(iterate_bucket_items(\"ssda-jpg-cache\"), start_datetime, end_datetime)\n",
    "print(len(images))\n",
    "print(images[0])"
   ]
  },
  {
   "cell_type": "code",
   "execution_count": null,
   "id": "logical-corporation",
   "metadata": {},
   "outputs": [
    {
     "data": {
      "text/plain": [
       "'\\nin case you broke it\\n\\n\\ntoday_items = []                \\ncount = 0\\nfor i in iterate_bucket_items(bucket=\\'ssda-jpg-cache\\'):\\n    if len(i[\"Key\"].split(\"/\")) < 4:\\n        continue\\n    if i[\"LastModified\"].strftime(\"%Y\") != \"2022\" or i[\"LastModified\"].strftime(\"%m\") != \"06\" or i[\"LastModified\"].strftime(\"%d\") != \"27\" or (i[\"LastModified\"].strftime(\"%H\") != \"21\" and i[\"LastModified\"].strftime(\"%H\") != \"22\")  or (int(i[\"LastModified\"].strftime(\"%M\")) < 50 and int(i[\"LastModified\"].strftime(\"%M\")) > 10):\\n        continue\\n    in_list = False\\n    for item in today_items:\\n        if item[\"Key\"].split(\"/\")[2] == i[\"Key\"].split(\"/\")[2]:\\n            in_list = True\\n    if in_list == False:\\n        today_items.append(i)\\n        \\nlen(today_items)\\n'"
      ]
     },
     "execution_count": null,
     "metadata": {},
     "output_type": "execute_result"
    }
   ],
   "source": [
    "\"\"\"\n",
    "in case you broke it\n",
    "\n",
    "\n",
    "today_items = []                \n",
    "count = 0\n",
    "for i in iterate_bucket_items(bucket='ssda-jpg-cache'):\n",
    "    if len(i[\"Key\"].split(\"/\")) < 4:\n",
    "        continue\n",
    "    if i[\"LastModified\"].strftime(\"%Y\") != \"2022\" or i[\"LastModified\"].strftime(\"%m\") != \"06\" or i[\"LastModified\"].strftime(\"%d\") != \"27\" or (i[\"LastModified\"].strftime(\"%H\") != \"21\" and i[\"LastModified\"].strftime(\"%H\") != \"22\")  or (int(i[\"LastModified\"].strftime(\"%M\")) < 50 and int(i[\"LastModified\"].strftime(\"%M\")) > 10):\n",
    "        continue\n",
    "    in_list = False\n",
    "    for item in today_items:\n",
    "        if item[\"Key\"].split(\"/\")[2] == i[\"Key\"].split(\"/\")[2]:\n",
    "            in_list = True\n",
    "    if in_list == False:\n",
    "        today_items.append(i)\n",
    "        \n",
    "len(today_items)\n",
    "\"\"\""
   ]
  },
  {
   "cell_type": "code",
   "execution_count": null,
   "id": "bearing-yukon",
   "metadata": {},
   "outputs": [],
   "source": [
    "def manual_cache_clear(image_ids, bucket_name):\n",
    "    import boto3\n",
    "    cleared = 0\n",
    "    res = boto3.resource(\"s3\")\n",
    "    bucket = res.Bucket(bucket_name)\n",
    "    for im_id in image_ids:        \n",
    "        im_prefix = \"cache/image/\" + im_id\n",
    "        for obj in bucket.objects.filter(Prefix = im_prefix):\n",
    "            bucket.Object(obj.key).delete()\n",
    "        meta_key = \"cache/info/\" + im_id + \".json\"\n",
    "        bucket.Object(meta_key).delete()\n",
    "        cleared += 1\n",
    "    return cleared"
   ]
  },
  {
   "cell_type": "code",
   "execution_count": null,
   "id": "regulation-marketing",
   "metadata": {},
   "outputs": [
    {
     "name": "stdout",
     "output_type": "stream",
     "text": [
      "10\n"
     ]
    }
   ],
   "source": [
    "images_cleared = manual_cache_clear(images, \"ssda-jpg-cache\")\n",
    "print(images_cleared)"
   ]
  },
  {
   "cell_type": "code",
   "execution_count": null,
   "id": "golden-location",
   "metadata": {},
   "outputs": [],
   "source": []
  }
 ],
 "metadata": {
  "kernelspec": {
   "display_name": "Python 3",
   "language": "python",
   "name": "python3"
  }
 },
 "nbformat": 4,
 "nbformat_minor": 5
}
