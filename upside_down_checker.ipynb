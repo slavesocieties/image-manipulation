{
 "cells": [
  {
   "cell_type": "code",
   "execution_count": null,
   "id": "alien-elite",
   "metadata": {},
   "outputs": [],
   "source": [
    "#default_exp up_down_detect"
   ]
  },
  {
   "cell_type": "code",
   "execution_count": null,
   "id": "searching-greenhouse",
   "metadata": {},
   "outputs": [],
   "source": [
    "#export\n",
    "\n",
    "def upside_down_detector(im, verbose=False):\n",
    "    '''\n",
    "    Checks whether an image of a historical document digitized against a black backdrop with a color checker is upside down\n",
    "        im: image as a PIL Image        \n",
    "        verbose: (default False) boolean reflecting whether to print upside-down-ness determing parameters\n",
    "            \n",
    "        returns: True if image is upside down, False otherwise\n",
    "    '''\n",
    "    from PIL import Image\n",
    "    \n",
    "    width = im.size[0]\n",
    "    height = im.size[1]\n",
    "    \n",
    "    left_crop = im.crop(box = (0, 350, 200, 550))\n",
    "    center_crop = im.crop(box = (int(width / 2) - 100, 350, int(width / 2) + 100, 550))\n",
    "    right_crop = im.crop(box = (width - 200, 350, width, 550))\n",
    "    \n",
    "    left_data = list(left_crop.getdata())\n",
    "    center_data = list(center_crop.getdata())\n",
    "    right_data = list(right_crop.getdata())\n",
    "    \n",
    "    left_black = 0\n",
    "    center_black = 0\n",
    "    right_black = 0\n",
    "    \n",
    "    for i in range(len(left_data)):\n",
    "        if (i % 1000 == 0):\n",
    "            if is_black(left_data[i]):\n",
    "                left_black += 1\n",
    "            if is_black(center_data[i]):\n",
    "                center_black += 1\n",
    "            if is_black(right_data[i]):\n",
    "                right_black += 1\n",
    "                \n",
    "    if verbose:\n",
    "        print(left_black, center_black, right_black)\n",
    "    \n",
    "    if (left_black > 36) and (right_black > 36) and (center_black <= 10):\n",
    "        return True\n",
    "    \n",
    "    return False"
   ]
  },
  {
   "cell_type": "code",
   "execution_count": null,
   "id": "sticky-flexibility",
   "metadata": {},
   "outputs": [],
   "source": [
    "#export\n",
    "\n",
    "def is_black(pixel):\n",
    "    '''\n",
    "    Checks whether a pixel is black (according to a very loose definition of black)\n",
    "        pixel: triple containing RGB values for a single pixel      \n",
    "        \n",
    "        returns: True if pixel if \"black,\" False otherwise\n",
    "    '''\n",
    "    if (pixel[0] < 75) and (pixel[1] < 75) and (pixel[2] < 75):\n",
    "        return True\n",
    "    \n",
    "    return False"
   ]
  }
 ],
 "metadata": {
  "kernelspec": {
   "display_name": "Python 3",
   "language": "python",
   "name": "python3"
  }
 },
 "nbformat": 4,
 "nbformat_minor": 5
}
