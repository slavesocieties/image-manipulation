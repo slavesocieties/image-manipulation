{
 "cells": [
  {
   "cell_type": "code",
   "execution_count": null,
   "id": "unknown-weapon",
   "metadata": {},
   "outputs": [],
   "source": [
    "#default_exp rotation"
   ]
  },
  {
   "cell_type": "code",
   "execution_count": 1,
   "id": "finished-israeli",
   "metadata": {},
   "outputs": [],
   "source": [
    "#export\n",
    "\n",
    "from PIL import Image"
   ]
  },
  {
   "cell_type": "code",
   "execution_count": null,
   "id": "comprehensive-notification",
   "metadata": {},
   "outputs": [],
   "source": []
  },
  {
   "cell_type": "code",
   "execution_count": null,
   "id": "competitive-drove",
   "metadata": {},
   "outputs": [],
   "source": []
  }
 ],
 "metadata": {
  "kernelspec": {
   "display_name": "Python 3",
   "language": "python",
   "name": "python3"
  },
  "language_info": {
   "codemirror_mode": {
    "name": "ipython",
    "version": 3
   },
   "file_extension": ".py",
   "mimetype": "text/x-python",
   "name": "python",
   "nbconvert_exporter": "python",
   "pygments_lexer": "ipython3",
   "version": "3.9.2"
  }
 },
 "nbformat": 4,
 "nbformat_minor": 5
}
