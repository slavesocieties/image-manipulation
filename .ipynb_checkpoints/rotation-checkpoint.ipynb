{
 "cells": [
  {
   "cell_type": "code",
   "execution_count": null,
   "id": "economic-warning",
   "metadata": {},
   "outputs": [],
   "source": [
    "#default_exp rotation"
   ]
  },
  {
   "cell_type": "code",
   "execution_count": null,
   "id": "alpha-backing",
   "metadata": {},
   "outputs": [],
   "source": [
    "#export\n",
    "\n",
    "def rotate_s3_objects(s3_bucket_name, object_prefix = \"\", rotation_direction = \"clockwise\", rotation_degrees = 90):\n",
    "    from PIL import Image\n",
    "    import boto3\n",
    "    import os\n",
    "    \n",
    "    s3_resource = boto3.resource(\"s3\")\n",
    "    s3_client = boto3.client(\"s3\")\n",
    "    \n",
    "    bucket = s3_resource.Bucket(s3_bucket_name)\n",
    "    rotated_objects = 0\n",
    "    \n",
    "    for obj in bucket.objects.filter(Prefix = object_prefix):\n",
    "        if not \"jpg\" in obj.key:\n",
    "            continue\n",
    "            \n",
    "        s3_client.download_file(s3_bucket_name, obj.key, \"temp.jpg\")\n",
    "        im = Image.open(\"temp.jpg\")\n",
    "        \n",
    "        if (rotation_direction == \"clockwise\") and (rotation_degrees == 90):\n",
    "            im = im.transpose(Image.ROTATE_270)\n",
    "        elif rotation_degrees == 90:\n",
    "            im = im.transpose(Image.ROTATE_90)\n",
    "        else:\n",
    "            im = im.transpose(Image.ROTATE_180)\n",
    "            \n",
    "        im.save(\"temp.jpg\")\n",
    "        s3_client.upload_file(\"temp.jpg\", s3_bucket_name, obj.key)\n",
    "        \n",
    "        rotated_objects += 1\n",
    "        \n",
    "    os.remove(\"temp.jpg\")\n",
    "            \n",
    "    return str(rotated_objects) + \" images rotated.\""
   ]
  },
  {
   "cell_type": "code",
   "execution_count": null,
   "id": "requested-wyoming",
   "metadata": {},
   "outputs": [
    {
     "data": {
      "text/plain": [
       "'446 images rotated.'"
      ]
     },
     "execution_count": null,
     "metadata": {},
     "output_type": "execute_result"
    }
   ],
   "source": [
    "#no_test\n",
    "\n",
    "rotate_s3_objects(\"ssda-production-jpgs\", object_prefix = \"701139\")"
   ]
  },
  {
   "cell_type": "code",
   "execution_count": null,
   "id": "informal-taiwan",
   "metadata": {},
   "outputs": [],
   "source": []
  }
 ],
 "metadata": {
  "kernelspec": {
   "display_name": "Python 3",
   "language": "python",
   "name": "python3"
  }
 },
 "nbformat": 4,
 "nbformat_minor": 5
}
