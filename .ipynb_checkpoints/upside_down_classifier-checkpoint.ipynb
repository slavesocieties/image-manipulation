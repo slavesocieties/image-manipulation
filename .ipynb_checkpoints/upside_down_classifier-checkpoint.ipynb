{
 "cells": [
  {
   "cell_type": "code",
   "execution_count": null,
   "id": "entertaining-palestine",
   "metadata": {},
   "outputs": [],
   "source": [
    "def grab_training_data(volume_id, upside_down=True):\n",
    "    \n",
    "    s3_resource = boto3.resource(\"s3\")\n",
    "    s3_client = boto3.client(\"s3\")\n",
    "    \n",
    "    source_bucket = s3_resource.Bucket(\"ssda-production-jpgs\")\n",
    "    \n",
    "    for obj in source_bucket.objects.filter(Prefix = volume_id):\n",
    "        if upside_down:\n",
    "            s3_client.download_file(\"ssda-production-jpgs\", obj.key, \"E:\\\\folio_samples\\\\upside_down\\\\\" + obj.key)\n",
    "        else:\n",
    "            s3_client.download_file(\"ssda-production-jpgs\", obj.key, \"E:\\\\folio_samples\\\\right_side_up\\\\\" + obj.key)\n",
    "            \n",
    "    return \"Images from \" + volume_id + \" downloaded to \" + int(upside_down) * \"upside down training data\" + int(not upside_down) * \"right side up training data\""
   ]
  }
 ],
 "metadata": {
  "kernelspec": {
   "display_name": "Python 3",
   "language": "python",
   "name": "python3"
  }
 },
 "nbformat": 4,
 "nbformat_minor": 5
}
