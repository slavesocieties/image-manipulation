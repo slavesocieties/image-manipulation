{
 "cells": [
  {
   "cell_type": "code",
   "execution_count": null,
   "id": "economic-warning",
   "metadata": {},
   "outputs": [],
   "source": [
    "#default_exp rotation"
   ]
  },
  {
   "cell_type": "code",
   "execution_count": null,
   "id": "alpha-backing",
   "metadata": {},
   "outputs": [],
   "source": [
    "#export\n",
    "\n",
    "def rotate_s3_objects(s3_bucket_name, object_prefix = \"\", rotation_direction = \"clockwise\", rotation_degrees = 90):\n",
    "    from PIL import Image\n",
    "    import boto3\n",
    "    \n",
    "    s3_resource = boto3.resource(\"s3\")\n",
    "    s3_client = boto3.client(\"s3\")\n",
    "    \n",
    "    bucket = s3_resource.Bucket(s3_bucket_name)\n",
    "    rotated_objects = 0\n",
    "    \n",
    "    for obj in bucket.objects.filter(Prefix = object_prefix):\n",
    "        if not \"jpg\" in obj.key:\n",
    "            continue\n",
    "            \n",
    "        s3_client.download_file(s3_bucket_name, obj.key, \"temp.jpg\")\n",
    "        im = Image.open(\"temp.jpg\")\n",
    "        \n",
    "        "
   ]
  },
  {
   "cell_type": "code",
   "execution_count": null,
   "id": "viral-questionnaire",
   "metadata": {},
   "outputs": [],
   "source": [
    "width = tim.size[0]\n",
    "                height = tim.size[1]\n",
    "                if width > height:\n",
    "                    bigtim = tim.resize((width,width))\n",
    "                    bigtim = bigtim.rotate(270)\n",
    "                    bigtim = bigtim.resize((height,width))\n",
    "                    bigtim.save(folder + '\\\\' + file)\n",
    "                    imagesRotated += 1 "
   ]
  }
 ],
 "metadata": {
  "kernelspec": {
   "display_name": "Python 3",
   "language": "python",
   "name": "python3"
  },
  "language_info": {
   "codemirror_mode": {
    "name": "ipython",
    "version": 3
   },
   "file_extension": ".py",
   "mimetype": "text/x-python",
   "name": "python",
   "nbconvert_exporter": "python",
   "pygments_lexer": "ipython3",
   "version": "3.9.2"
  }
 },
 "nbformat": 4,
 "nbformat_minor": 5
}
